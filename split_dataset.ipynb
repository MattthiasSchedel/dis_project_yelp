{
 "cells": [
  {
   "cell_type": "code",
   "execution_count": 5,
   "metadata": {},
   "outputs": [],
   "source": [
    "import findspark\n",
    "findspark.init(\"/usr/local/spark\")\n",
    "\n",
    "from pyspark.sql import SparkSession \n",
    "import pyspark.sql.functions as F \n",
    "\n",
    "from delta import *\n",
    "\n",
    "builder = SparkSession.builder.appName(\"MyApp\") \\\n",
    "    .config(\"spark.sql.extensions\", \"io.delta.sql.DeltaSparkSessionExtension\") \\\n",
    "    .config(\"spark.sql.catalog.spark_catalog\", \"org.apache.spark.sql.delta.catalog.DeltaCatalog\")\\\n",
    "    .master(\"spark://namenode:7077\")\\\n",
    "\n",
    "spark = configure_spark_with_delta_pip(builder).getOrCreate()"
   ]
  },
  {
   "cell_type": "code",
   "execution_count": 6,
   "metadata": {},
   "outputs": [
    {
     "name": "stdout",
     "output_type": "stream",
     "text": [
      "+--------------------+--------------------+--------------------+-----+------+-----+----+--------------------+-------------------+\n",
      "|           review_id|             user_id|         business_id|stars|useful|funny|cool|                text|               date|\n",
      "+--------------------+--------------------+--------------------+-----+------+-----+----+--------------------+-------------------+\n",
      "|MmmrqbdupYBJq9jnl...|TjD2S66AWxlKsPSQB...|znK6tMeegKf9YnGut...|  5.0|     0|    0|   0|Great little spot...|2021-04-16 22:02:21|\n",
      "|1_uWX0bBJNnZjPEcp...|Vtfxxq3nxdYHRiH6O...|UxwpCVLgPWCeaRyet...|  5.0|     0|    0|   0|James was super k...|2021-01-03 21:54:48|\n",
      "|WVAEE47MnM3Sv2cvM...|ZDw_qN5Fy6PE0gdbV...|eVI64EQymywsvMLmD...|  5.0|     0|    0|   0|By far the best i...|2020-11-01 19:50:03|\n",
      "|D5b6iooZZcJ8nG-9P...|UvMDlX2wV4Md9OwGW...|SPcPJfPgWzhjUDqVF...|  5.0|     0|    0|   0|I thought that th...|2021-03-24 05:53:49|\n",
      "|uDxnT7zWFnxEDxp5e...|ir9ixBZPzBwWe9IZ_...|T5XzQ6YnVExvd0BOR...|  5.0|     0|    0|   0|Aside from the re...|2016-06-13 21:25:10|\n",
      "|WjEfcAKUDOg7ADeI9...|6WW9sM9H2pKMr01tw...|9Ldo7ocJHVrEzRXUp...|  5.0|     1|    0|   0|My favorite nail ...|2015-05-14 21:27:04|\n",
      "|kIwilPBNm5bjS27AK...|SVtNqAQFwOca_3yr1...|mdNm8X3vcedYXQ-vw...|  5.0|     0|    0|   0|Love this place! ...|2019-01-05 14:39:38|\n",
      "|ws8zCdr7clKI2IQ-Y...|pMj9HULhkLzg2qqcl...|QVGHZ_gV-0fO8GeHn...|  5.0|     0|    1|   0|Love this local h...|2017-04-23 00:27:17|\n",
      "|S8EQJVkE7TDpy7nna...|LVGZiLxiJe3VsUpaU...|sv3mfbZEI8frLbUbR...|  1.0|     0|    0|   0|Don't go late in ...|2020-01-20 01:01:34|\n",
      "|q3zrcBqcyK_nfDTIx...|PPhQehweJHbMSTEp7...|0b7cBRywLcoqUpa3P...|  5.0|     0|    0|   0|The burratta, ris...|2020-06-15 00:25:29|\n",
      "|Xt1zUzmXEManar3Gz...|R9IJ1Byr27n6wXj3Q...|WM89sIfap8g0JXmwX...|  4.0|    11|    4|   7|A steak and chees...|2020-04-27 20:23:27|\n",
      "|qS9x5AoGPQGN3BmT4...|7JiwGIYyr8W4xguSs...|7Iv-6B0EH-yVo5o_V...|  5.0|     1|    0|   1|The most comprehe...|2020-06-13 14:33:13|\n",
      "|CDilyHXE5ij20b2Ri...|FUUEU3ZN5cL1nNNR2...|u7cZUEGK6iJP2gvI2...|  4.0|     1|    0|   0|Outstanding tap l...|2013-01-24 14:36:59|\n",
      "|FoUNHWn9_4V2nZVH9...|LY_YVPuJogpjX2MSa...|GWH_fPOdtIjFZT4-X...|  1.0|     4|    0|   0|\"You know you're ...|2014-01-03 01:54:16|\n",
      "|fA1tbiON_6AJrTbXv...|K4bFNYdR23y9PXnGg...|wkKhsrQe4CQAmYW7I...|  1.0|     0|    0|   0|WOW!! Went in abo...|2013-07-26 17:23:48|\n",
      "|_ceC3pivZYcRgY1g9...|PFX0lEkTPyBS_dBbu...|L_HVYZJEiHXaMJjG3...|  5.0|     0|    0|   0|key lime pie icec...|2020-06-06 13:35:28|\n",
      "|LmDQ2MNItZebqEq3s...|LC3fpdaTtp7iszHel...|lm2ZtQMo_CjTI4LFc...|  1.0|     0|    0|   0|\"What has the wor...|2020-09-09 19:07:37|\n",
      "|mCK-Vy_DfOEJEn2t5...|h1i7LY14_jjNcrxxk...|f3KY0RWfhWM9GS7Kj...|  2.0|     4|    0|   0|Pros - Great sele...|2016-12-18 14:49:39|\n",
      "|-uEthQPNFh62ewIKJ...|xlvXh8mtQSi7rcMjA...|HZDU3FkWkrQG3dzEa...|  5.0|     1|    0|   0|As of March 2, 20...|2018-04-06 21:21:22|\n",
      "|TeH6-r3vrs9Gc6CKO...|WMmMoSBnWV8XcSldE...|sB1_t1ps-qKkKpPxu...|  1.0|     2|    0|   0|I called to make ...|2015-10-01 01:33:47|\n",
      "+--------------------+--------------------+--------------------+-----+------+-----+----+--------------------+-------------------+\n",
      "only showing top 20 rows\n",
      "\n"
     ]
    }
   ],
   "source": [
    "from pyspark.sql.types import *\n",
    "\n",
    "review_schema = StructType([StructField(\"review_id\", StringType(), False),\n",
    "      StructField(\"user_id\", StringType(), False),\n",
    "      StructField(\"business_id\", StringType(), False),\n",
    "      StructField(\"stars\", StringType(), False), \n",
    "      StructField(\"useful\", IntegerType(), False),\n",
    "      StructField(\"funny\", IntegerType(), False),\n",
    "      StructField(\"cool\", IntegerType(), False),\n",
    "      StructField(\"text\", StringType(), False),\n",
    "      StructField(\"date\", StringType(), False),])\n",
    "review_df = spark.read.csv(\"hdfs://namenode:9000/project_data/review.csv\", sep = '|', header = False, schema = review_schema)\n",
    "review_df.createOrReplaceTempView(\"reviews\")\n",
    "\n",
    "\n",
    "spark.sparkContext.setJobDescription('load review dataset')\n",
    "business_schema = StructType([\n",
    "    StructField(\"business_id\", StringType(), False),\n",
    "    StructField(\"name\", StringType(), True),\n",
    "    StructField(\"address\", StringType(), True),\n",
    "    StructField(\"city\", StringType(), True),\n",
    "    StructField(\"state\", StringType(), True),\n",
    "    StructField(\"postal_code\", StringType(), True),\n",
    "    StructField(\"latitude\", DoubleType(), True),\n",
    "    StructField(\"longitude\", DoubleType(), True),\n",
    "    StructField(\"stars\", DoubleType(), True),\n",
    "    StructField(\"review_count\", IntegerType(), True),\n",
    "    StructField(\"is_open\", IntegerType(), True),\n",
    "    StructField(\"attributes\", StringType(), True),\n",
    "    StructField(\"categories\", StringType(), True),\n",
    "    StructField(\"hours\", StringType(), True)\n",
    "])\n",
    "business_df = spark.read.csv(\"hdfs://namenode:9000/project_data/business.csv\", sep = '|', header = False, schema = business_schema)\n",
    "business_df.createOrReplaceTempView(\"business\")\n",
    "\n",
    "spark.sparkContext.setJobDescription('combine datasets')\n",
    "reviews_with_category = spark.sql(\"SELECT r.review_id, r.user_id, r.business_id, r.stars, r.useful, r.funny, r.cool, r.text, r.date FROM reviews AS r LEFT JOIN business AS b ON b.business_id = r.business_id \")\n",
    "\n",
    "spark.sparkContext.setJobDescription('filter reviews')\n",
    "restaurant_reviews = reviews_with_category.where(F.col('categories').contains(\"Restaurants\"))\n",
    "review_df.show()"
   ]
  },
  {
   "cell_type": "code",
   "execution_count": 8,
   "metadata": {},
   "outputs": [
    {
     "name": "stderr",
     "output_type": "stream",
     "text": [
      "                                                                                \r"
     ]
    }
   ],
   "source": [
    "fraction = 20 / review_df.count()"
   ]
  },
  {
   "cell_type": "code",
   "execution_count": 9,
   "metadata": {},
   "outputs": [
    {
     "data": {
      "text/plain": [
       "2.8611157206864388e-06"
      ]
     },
     "execution_count": 9,
     "metadata": {},
     "output_type": "execute_result"
    }
   ],
   "source": [
    "fraction"
   ]
  },
  {
   "cell_type": "code",
   "execution_count": 10,
   "metadata": {},
   "outputs": [],
   "source": [
    "small_df = review_df.sample(fraction=fraction, seed=42)"
   ]
  },
  {
   "cell_type": "code",
   "execution_count": 11,
   "metadata": {},
   "outputs": [
    {
     "name": "stderr",
     "output_type": "stream",
     "text": [
      "[Stage 13:====================================================>   (14 + 1) / 15]\r"
     ]
    },
    {
     "name": "stdout",
     "output_type": "stream",
     "text": [
      "+--------------------+--------------------+--------------------+-----+------+-----+----+--------------------+-------------------+\n",
      "|           review_id|             user_id|         business_id|stars|useful|funny|cool|                text|               date|\n",
      "+--------------------+--------------------+--------------------+-----+------+-----+----+--------------------+-------------------+\n",
      "|4WM6pP7lIin8-xyTb...|MDyb1LR5zsxkERwWx...|JpJogTQGjOQrA7yt1...|  5.0|     3|    0|   2|I moved my daught...|2018-08-09 20:55:33|\n",
      "|ApYU3mkJPVqpsrDd5...|oSCobs0cPujMDavG_...|LdECsE8lJS7v5GTFT...|  5.0|     0|    0|   0|We are here.and l...|2018-09-12 00:09:57|\n",
      "|wcNjtKfLSubxPp8kc...|Cex81esLlv8OtLjT-...|MZ9ucV1npggMOYY9f...|  5.0|     2|    0|   0|I recently purcha...|2019-09-01 03:55:28|\n",
      "|JzQmAnl57t0zzAujo...|imjPUEXVN8rVv5MBh...|2bfExBV5NEmn79wUw...|  4.0|     2|    1|   3|\"This is a fun ad...|2013-03-18 00:33:53|\n",
      "|4pw-OuNdrzzZx1NDa...|oxO5avyhcsM7KyOuB...|-CbBGlrmddJsaruk6...|  2.0|     0|    0|   0|The food isn't go...|2019-10-13 01:52:33|\n",
      "|9uvBNKreddbiSFF_j...|B5CC39r-qlMmKGepg...|jtgBkAQuchDYgkdse...|  2.0|     1|    0|   0|Awesome coffee an...|2019-07-07 18:30:36|\n",
      "|Nc6mkga2kKQs9_a92...|ceg1j4F41s5MtYVva...|DjiBIx1d8USQoSQME...|  5.0|     0|    0|   1|Located right on ...|2019-12-01 21:52:50|\n",
      "|gGepmRT-EenDRFiGf...|frMCLi99hvRim3j8Z...|deWhFgwgU3F11jYMJ...|  2.0|     0|    1|   0|Okay for what it ...|2017-08-24 23:13:27|\n",
      "|gehQuizlanQ0852LQ...|SvmbnOYNc9jrjSjDb...|L05ImY9-Qga2ri7FK...|  2.0|     0|    0|   0|The food is good ...|2020-12-25 23:40:50|\n",
      "|ySnRXBHzoty8AKMor...|bayYmlS4bUroNTtyx...|PeJV_10X0adYAAzfU...|  5.0|     3|    0|   0|\"I have been goin...|2014-09-04 14:47:49|\n",
      "|DhxtQTbPgjg5DIGDX...|K2oaF3j9Ru9w7dyJV...|pym7c6ZFEtmoH16xN...|  5.0|     0|    0|   0|Awesome service a...|2011-12-14 21:53:19|\n",
      "|vgTzh0vAScdRfbZf4...|mRYfnrRboeRMvJv0J...|_393npnr0Dw1aGKy8...|  5.0|     0|    0|   0|Brunch was great....|2016-03-06 17:20:56|\n",
      "|AZTGIy-E97N3qSlm7...|R9URgocBw2Cw8w310...|LaQgujKtAQ4yPSmqR...|  5.0|     0|    0|   0|Great burgers and...|2017-10-27 22:41:00|\n",
      "|KrVLzXwzm1EgQ8XeZ...|TvLV3q__2iFn-tOdw...|wrgtmWOkq1FwnlSgl...|  4.0|     0|    0|   0|By far the best b...|2016-02-28 13:52:43|\n",
      "|-KOxrHhTSayEk01XH...|LyWYxyDpabqD8mgpr...|CrP6JWXBmf_HyMnZJ...|  4.0|     0|    0|   0|Good place to eat...|2013-02-20 17:34:12|\n",
      "|z5i8OtKd4L4Kuyvu9...|s2UH1deU8YTYTMWWZ...|PP3BBaVxZLcJU54uP...|  5.0|     0|    0|   0|5stars.          ...|2015-08-16 03:23:35|\n",
      "|kXbVRmYjaUIBI8jLs...|pUUCXb3TS8cR2stXT...|iHdrLu8deF5GceB0V...|  5.0|     0|    0|   0|\"My new favorite ...|2017-12-23 02:58:08|\n",
      "|MN7wg1rpDJTKTkg1j...|KnPrhgAtSuUEA4PYS...|2pLIQ0RHSmUbF0eIR...|  4.0|     0|    0|   0|I've wanted to vi...|2011-06-16 14:59:40|\n",
      "|4F0rrBlJ2GIbWcNNW...|xZLxP_yI5V2XyUET8...|UakVMT3xrpbFB2pHd...|  4.0|     0|    0|   0|Great breakfast b...|2018-12-24 18:49:00|\n",
      "+--------------------+--------------------+--------------------+-----+------+-----+----+--------------------+-------------------+\n",
      "\n"
     ]
    },
    {
     "name": "stderr",
     "output_type": "stream",
     "text": [
      "                                                                                \r"
     ]
    }
   ],
   "source": [
    "small_df.show()"
   ]
  },
  {
   "cell_type": "code",
   "execution_count": 12,
   "metadata": {},
   "outputs": [
    {
     "name": "stderr",
     "output_type": "stream",
     "text": [
      "                                                                                \r"
     ]
    },
    {
     "data": {
      "text/plain": [
       "19"
      ]
     },
     "execution_count": 12,
     "metadata": {},
     "output_type": "execute_result"
    }
   ],
   "source": [
    "small_df.count()"
   ]
  },
  {
   "cell_type": "code",
   "execution_count": 15,
   "metadata": {},
   "outputs": [
    {
     "name": "stderr",
     "output_type": "stream",
     "text": [
      "                                                                                \r"
     ]
    }
   ],
   "source": [
    "small_df.write.option(\"sep\",\"|\").mode(\"overwrite\").csv(\"hdfs://namenode:9000/project_data/review_small_a.csv\")"
   ]
  },
  {
   "cell_type": "code",
   "execution_count": 16,
   "metadata": {},
   "outputs": [],
   "source": [
    "small_df2 = review_df.sample(fraction=fraction, seed=100)"
   ]
  },
  {
   "cell_type": "code",
   "execution_count": 17,
   "metadata": {},
   "outputs": [
    {
     "name": "stderr",
     "output_type": "stream",
     "text": [
      "[Stage 22:=========================================>              (11 + 4) / 15]\r"
     ]
    },
    {
     "name": "stdout",
     "output_type": "stream",
     "text": [
      "+--------------------+--------------------+--------------------+-----+------+-----+----+--------------------+-------------------+\n",
      "|           review_id|             user_id|         business_id|stars|useful|funny|cool|                text|               date|\n",
      "+--------------------+--------------------+--------------------+-----+------+-----+----+--------------------+-------------------+\n",
      "|wn1s1lPOuARSuMdo5...|Ozl9kIv9bA65DGHgc...|7jSm5z3n2JfDHsFAX...|  1.0|     1|    0|   1|Live around the c...|2015-08-15 20:24:27|\n",
      "|nPFIpBocQmxtuFVv6...|saqaTwYnk6fY93sWR...|oeyfCPVjK9dv8pgLM...|  5.0|     0|    0|   0|It breaks our hea...|2020-09-14 18:06:15|\n",
      "|lr1xBBahWP2ZOqGco...|GUkKB286tUKo-C-Uo...|rv_1S0yg-YtulZ6gG...|  5.0|     2|    0|   2|Great coffee shop...|2020-06-08 02:07:44|\n",
      "|UQvcvXb6IZsXJxNhZ...|Efw1BpyljToAa-9mk...|P3EKMH2N1d5SbP1QI...|  5.0|     2|    0|   0|Does a great job ...|2019-10-10 02:56:50|\n",
      "|GfbZu-2hg6WzG5b8v...|DDItoaNRmJJYrhJGz...|sJ7RwRN1Pd602KDXb...|  3.0|     1|    0|   1|Passed ten other ...|2021-07-26 20:51:21|\n",
      "|whUKoqf3hpklaiWmt...|R0pHNeurZYr4c4yXL...|dzFbGUUV5eh-ZR81R...|  1.0|    19|    1|   1|I would never rec...|2016-02-12 18:46:03|\n",
      "|PcdwS2FL3jnpXIwmI...|3Xxt0y4dOg-ewnudA...|VQcCL9PiNL_wkGf-u...|  3.0|     1|    0|   0|Good space upstai...|2016-03-02 19:29:51|\n",
      "|E0m3ni49ruwkccjZe...|aDCfD0psGAleSQ3L0...|pN3O2ZLRiSLPyCWCe...|  1.0|     1|    0|   0|\"America used to ...|2010-09-27 04:29:02|\n",
      "|VqHhMjGJI_9bTcgl6...|uxd-YJTMh-YOFN-KP...|8ikj9GaC2oEf_leis...|  5.0|     0|    0|   0|This was so incre...|2016-05-15 16:22:32|\n",
      "|BXVm_qLhx2h0F1Cf-...|37cpUoM8hlkSQfReI...|Oun4NN-u5yiHIxDqt...|  5.0|     6|    2|   3|Donuts and fried ...|2013-11-07 23:50:33|\n",
      "|0oCbH-K0tFa0Exbjl...|mlxzgOXyVl-7DryCd...|UakVMT3xrpbFB2pHd...|  5.0|     0|    0|   0|Well I finally ha...|2018-06-01 22:47:56|\n",
      "|2ecMImprVq9UhB6Pe...|Oy3yB9lYVzcBV8OYb...|iUZEGx29miZObLd6_...|  5.0|     1|    1|   1|Wow! First off, I...|2009-11-20 16:54:17|\n",
      "|eUnl4eI0mEQcjdyee...|zxNtaKTMzZzum8ek2...|eUxD-l-Ddr1iMmzV6...|  5.0|     5|    1|   3|I had the chance ...|2017-04-03 04:12:40|\n",
      "|LAlPaYMAWx0ZUNnDY...|ZvtaDD6aRri9694bZ...|ArHq_uM3K7mxAiqwF...|  5.0|     3|    0|   2|\"Always FANTASTIC...|2015-11-10 16:20:49|\n",
      "|4okNZR_Z3whwioH3i...|4I0CNcNYC64DzlP97...|BxfvdHqETU8jWYUjx...|  4.0|     0|    0|   0|I love shake shac...|2012-08-05 12:19:57|\n",
      "|yYhliOOeTZXlV_ZWb...|8EMU7d4pCkdqUnvlI...|kfpwO_cdVQdTh2_oM...|  4.0|     1|    0|   2|The American Sard...|2013-08-22 04:02:49|\n",
      "|ezwqc_Dj0FbnbJKjQ...|i6bg_g6dz3cRavwTy...|9tOw202PkO9efW8zS...|  1.0|     0|    0|   0|\"I normally do no...|2011-12-01 03:37:00|\n",
      "|uj7WMG5LTeGUt0Se3...|VH_Tw45Qz-7K2nOU-...|mHmIoIGOfpidrS1fY...|  1.0|     1|    0|   0|Taking a walk by ...|2015-09-11 22:43:54|\n",
      "|cYTp9j-Rbmpij11dG...|Zpdh9rHGEHkwJwrsT...|q-zV08jt6U-q05SME...|  5.0|     2|    1|   1|\"We said \"Hello\" ...|2009-06-17 00:13:56|\n",
      "|mUxl7h0ffYJHUhC9H...|DhOCMvf6bp-enWbAh...|F9BES1HFD3BkIudUe...|  5.0|     1|    0|   0|\"one of the best ...|2014-05-13 05:05:17|\n",
      "+--------------------+--------------------+--------------------+-----+------+-----+----+--------------------+-------------------+\n",
      "only showing top 20 rows\n",
      "\n"
     ]
    },
    {
     "name": "stderr",
     "output_type": "stream",
     "text": [
      "                                                                                \r"
     ]
    }
   ],
   "source": [
    "small_df2.show()"
   ]
  },
  {
   "cell_type": "code",
   "execution_count": 18,
   "metadata": {},
   "outputs": [
    {
     "name": "stderr",
     "output_type": "stream",
     "text": [
      "[Stage 23:===========================================>            (31 + 9) / 40]\r"
     ]
    },
    {
     "data": {
      "text/plain": [
       "25"
      ]
     },
     "execution_count": 18,
     "metadata": {},
     "output_type": "execute_result"
    },
    {
     "name": "stderr",
     "output_type": "stream",
     "text": [
      "                                                                                \r"
     ]
    }
   ],
   "source": [
    "small_df2.count()"
   ]
  },
  {
   "cell_type": "code",
   "execution_count": 19,
   "metadata": {},
   "outputs": [],
   "source": [
    "small_df3 = small_df2.sample(fraction = 0.5)"
   ]
  },
  {
   "cell_type": "code",
   "execution_count": 20,
   "metadata": {},
   "outputs": [
    {
     "name": "stderr",
     "output_type": "stream",
     "text": [
      "                                                                                \r"
     ]
    },
    {
     "data": {
      "text/plain": [
       "14"
      ]
     },
     "execution_count": 20,
     "metadata": {},
     "output_type": "execute_result"
    }
   ],
   "source": [
    "small_df3.count()"
   ]
  },
  {
   "cell_type": "code",
   "execution_count": 21,
   "metadata": {},
   "outputs": [
    {
     "name": "stderr",
     "output_type": "stream",
     "text": [
      "                                                                                \r"
     ]
    }
   ],
   "source": [
    "small_df2.write.option(\"sep\",\"|\").mode(\"overwrite\").csv(\"hdfs://namenode:9000/project_data/review_small_a.csv\")"
   ]
  },
  {
   "cell_type": "code",
   "execution_count": 22,
   "metadata": {},
   "outputs": [],
   "source": [
    "small_df = small_df.union(small_df3)"
   ]
  },
  {
   "cell_type": "code",
   "execution_count": 23,
   "metadata": {},
   "outputs": [
    {
     "name": "stderr",
     "output_type": "stream",
     "text": [
      "                                                                                \r"
     ]
    },
    {
     "data": {
      "text/plain": [
       "33"
      ]
     },
     "execution_count": 23,
     "metadata": {},
     "output_type": "execute_result"
    }
   ],
   "source": [
    "small_df.count()"
   ]
  },
  {
   "cell_type": "code",
   "execution_count": 24,
   "metadata": {},
   "outputs": [
    {
     "name": "stderr",
     "output_type": "stream",
     "text": [
      "                                                                                \r"
     ]
    }
   ],
   "source": [
    "small_df.write.option(\"sep\",\"|\").mode(\"overwrite\").csv(\"hdfs://namenode:9000/project_data/review_small_b.csv\")"
   ]
  },
  {
   "cell_type": "code",
   "execution_count": 22,
   "metadata": {},
   "outputs": [
    {
     "name": "stdout",
     "output_type": "stream",
     "text": [
      "Updating delta\n"
     ]
    },
    {
     "name": "stderr",
     "output_type": "stream",
     "text": [
      "                                                                                \r"
     ]
    }
   ],
   "source": [
    "delta_table_path = '/temp/reviews_analyzed_presentation'\n",
    "\n",
    "# Check if the Delta table exists\n",
    "if DeltaTable.isDeltaTable(spark, delta_table_path):\n",
    "    print(\"Updating delta\")\n",
    "    # If the Delta table exists, load it into a DataFrame\n",
    "    deltaTableAnalyzedReviews = DeltaTable.forPath(spark, delta_table_path)\n",
    "    deltaTableAnalyzedReviews.alias('old') \\\n",
    "        .merge(\n",
    "        small_df.alias('updates'),\n",
    "        'old.review_id = updates.review_id'\n",
    "  ) \\\n",
    "  .whenMatchedUpdate(set =\n",
    "    {\n",
    "      \"review_id\": \"updates.review_id\",\n",
    "      \"user_id\": \"updates.user_id\",\n",
    "      \"business_id\": \"updates.business_id\",\n",
    "      \"stars\": \"updates.stars\",\n",
    "      \"useful\": \"updates.useful\",\n",
    "      \"funny\": \"updates.funny\",\n",
    "      \"cool\": \"updates.cool\",\n",
    "      \"text\": \"updates.text\",\n",
    "      \"date\": \"updates.date\"\n",
    "    }\n",
    "  ) \\\n",
    "  .whenNotMatchedInsert(values =\n",
    "    {\n",
    "      \"review_id\": \"updates.review_id\",\n",
    "      \"user_id\": \"updates.user_id\",\n",
    "      \"business_id\": \"updates.business_id\",\n",
    "      \"stars\": \"updates.stars\",\n",
    "      \"useful\": \"updates.useful\",\n",
    "      \"funny\": \"updates.funny\",\n",
    "      \"cool\": \"updates.cool\",\n",
    "      \"text\": \"updates.text\",\n",
    "      \"date\": \"updates.date\"\n",
    "    }\n",
    "  ) \\\n",
    "  .execute()\n",
    "else:\n",
    "    # If the Delta table does not exist, create it\n",
    "    print(\"Creating delta\")\n",
    "    deltaTableAnalyzedReviews = small_df3.write.format('delta').mode('overwrite').save(delta_table_path)\n",
    "    deltaTableAnalyzedReviews = DeltaTable.forPath(spark, delta_table_path)\n",
    "print(\"Finished!\")"
   ]
  },
  {
   "cell_type": "code",
   "execution_count": 23,
   "metadata": {},
   "outputs": [
    {
     "name": "stdout",
     "output_type": "stream",
     "text": [
      "+--------------------+--------------------+--------------------+-----+------+-----+----+--------------------+-------------------+\n",
      "|           review_id|             user_id|         business_id|stars|useful|funny|cool|                text|               date|\n",
      "+--------------------+--------------------+--------------------+-----+------+-----+----+--------------------+-------------------+\n",
      "|-KOxrHhTSayEk01XH...|LyWYxyDpabqD8mgpr...|CrP6JWXBmf_HyMnZJ...|  4.0|     0|    0|   0|Good place to eat...|2013-02-20 17:34:12|\n",
      "|0oCbH-K0tFa0Exbjl...|mlxzgOXyVl-7DryCd...|UakVMT3xrpbFB2pHd...|  5.0|     0|    0|   0|Well I finally ha...|2018-06-01 22:47:56|\n",
      "|2ecMImprVq9UhB6Pe...|Oy3yB9lYVzcBV8OYb...|iUZEGx29miZObLd6_...|  5.0|     1|    1|   1|Wow! First off, I...|2009-11-20 16:54:17|\n",
      "|4F0rrBlJ2GIbWcNNW...|xZLxP_yI5V2XyUET8...|UakVMT3xrpbFB2pHd...|  4.0|     0|    0|   0|Great breakfast b...|2018-12-24 18:49:00|\n",
      "|4KjHo2y4YughHrdd4...|v8iT4FtpGv28yihHu...|KEcxJdAXJq1TDMrXZ...|  5.0|     3|    0|   1|The best retail e...|2017-12-06 15:16:12|\n",
      "|4WM6pP7lIin8-xyTb...|MDyb1LR5zsxkERwWx...|JpJogTQGjOQrA7yt1...|  5.0|     3|    0|   2|I moved my daught...|2018-08-09 20:55:33|\n",
      "|4okNZR_Z3whwioH3i...|4I0CNcNYC64DzlP97...|BxfvdHqETU8jWYUjx...|  4.0|     0|    0|   0|I love shake shac...|2012-08-05 12:19:57|\n",
      "|4pw-OuNdrzzZx1NDa...|oxO5avyhcsM7KyOuB...|-CbBGlrmddJsaruk6...|  2.0|     0|    0|   0|The food isn't go...|2019-10-13 01:52:33|\n",
      "|9uvBNKreddbiSFF_j...|B5CC39r-qlMmKGepg...|jtgBkAQuchDYgkdse...|  2.0|     1|    0|   0|Awesome coffee an...|2019-07-07 18:30:36|\n",
      "|AZTGIy-E97N3qSlm7...|R9URgocBw2Cw8w310...|LaQgujKtAQ4yPSmqR...|  5.0|     0|    0|   0|Great burgers and...|2017-10-27 22:41:00|\n",
      "|ApYU3mkJPVqpsrDd5...|oSCobs0cPujMDavG_...|LdECsE8lJS7v5GTFT...|  5.0|     0|    0|   0|We are here.and l...|2018-09-12 00:09:57|\n",
      "|BXVm_qLhx2h0F1Cf-...|37cpUoM8hlkSQfReI...|Oun4NN-u5yiHIxDqt...|  5.0|     6|    2|   3|Donuts and fried ...|2013-11-07 23:50:33|\n",
      "|DhxtQTbPgjg5DIGDX...|K2oaF3j9Ru9w7dyJV...|pym7c6ZFEtmoH16xN...|  5.0|     0|    0|   0|Awesome service a...|2011-12-14 21:53:19|\n",
      "|E0m3ni49ruwkccjZe...|aDCfD0psGAleSQ3L0...|pN3O2ZLRiSLPyCWCe...|  1.0|     1|    0|   0|\"America used to ...|2010-09-27 04:29:02|\n",
      "|GfbZu-2hg6WzG5b8v...|DDItoaNRmJJYrhJGz...|sJ7RwRN1Pd602KDXb...|  3.0|     1|    0|   1|Passed ten other ...|2021-07-26 20:51:21|\n",
      "|JzQmAnl57t0zzAujo...|imjPUEXVN8rVv5MBh...|2bfExBV5NEmn79wUw...|  4.0|     2|    1|   3|\"This is a fun ad...|2013-03-18 00:33:53|\n",
      "|KrVLzXwzm1EgQ8XeZ...|TvLV3q__2iFn-tOdw...|wrgtmWOkq1FwnlSgl...|  4.0|     0|    0|   0|By far the best b...|2016-02-28 13:52:43|\n",
      "|LAlPaYMAWx0ZUNnDY...|ZvtaDD6aRri9694bZ...|ArHq_uM3K7mxAiqwF...|  5.0|     3|    0|   2|\"Always FANTASTIC...|2015-11-10 16:20:49|\n",
      "|MN7wg1rpDJTKTkg1j...|KnPrhgAtSuUEA4PYS...|2pLIQ0RHSmUbF0eIR...|  4.0|     0|    0|   0|I've wanted to vi...|2011-06-16 14:59:40|\n",
      "|Nc6mkga2kKQs9_a92...|ceg1j4F41s5MtYVva...|DjiBIx1d8USQoSQME...|  5.0|     0|    0|   1|Located right on ...|2019-12-01 21:52:50|\n",
      "+--------------------+--------------------+--------------------+-----+------+-----+----+--------------------+-------------------+\n",
      "only showing top 20 rows\n",
      "\n"
     ]
    }
   ],
   "source": [
    "deltaTableAnalyzedReviews = DeltaTable.forPath(spark, delta_table_path)\n",
    "df = deltaTableAnalyzedReviews.toDF()\n",
    "\n",
    "# Use the DataFrame as desired\n",
    "print(df.count())\n",
    "df.show()"
   ]
  },
  {
   "cell_type": "code",
   "execution_count": 3,
   "metadata": {},
   "outputs": [],
   "source": [
    "from pyspark.sql.types import *\n",
    "\n",
    "review_schema = StructType([StructField(\"review_id\", StringType(), False),\n",
    "      StructField(\"user_id\", StringType(), False),\n",
    "      StructField(\"business_id\", StringType(), False),\n",
    "      StructField(\"stars\", StringType(), False), \n",
    "      StructField(\"useful\", IntegerType(), False),\n",
    "      StructField(\"funny\", IntegerType(), False),\n",
    "      StructField(\"cool\", IntegerType(), False),\n",
    "      StructField(\"text\", StringType(), False),\n",
    "      StructField(\"date\", StringType(), False),])\n",
    "review_dfa = spark.read.csv(\"hdfs://namenode:9000/project_data/review_small_a.csv\", sep = '|', header = False, schema = review_schema)\n"
   ]
  },
  {
   "cell_type": "code",
   "execution_count": 4,
   "metadata": {},
   "outputs": [
    {
     "name": "stderr",
     "output_type": "stream",
     "text": [
      "                                                                                \r"
     ]
    },
    {
     "name": "stdout",
     "output_type": "stream",
     "text": [
      "+--------------------+-------+-----------+-----+------+-----+----+----+----+\n",
      "|           review_id|user_id|business_id|stars|useful|funny|cool|text|date|\n",
      "+--------------------+-------+-----------+-----+------+-----+----+----+----+\n",
      "|2ecMImprVq9UhB6Pe...|   null|       null| null|  null| null|null|null|null|\n",
      "|eUnl4eI0mEQcjdyee...|   null|       null| null|  null| null|null|null|null|\n",
      "|LAlPaYMAWx0ZUNnDY...|   null|       null| null|  null| null|null|null|null|\n",
      "|BXVm_qLhx2h0F1Cf-...|   null|       null| null|  null| null|null|null|null|\n",
      "|0oCbH-K0tFa0Exbjl...|   null|       null| null|  null| null|null|null|null|\n",
      "|ezwqc_Dj0FbnbJKjQ...|   null|       null| null|  null| null|null|null|null|\n",
      "|uj7WMG5LTeGUt0Se3...|   null|       null| null|  null| null|null|null|null|\n",
      "|cYTp9j-Rbmpij11dG...|   null|       null| null|  null| null|null|null|null|\n",
      "|whUKoqf3hpklaiWmt...|   null|       null| null|  null| null|null|null|null|\n",
      "|mUxl7h0ffYJHUhC9H...|   null|       null| null|  null| null|null|null|null|\n",
      "|TiiJfsNpPfQ5my6Uq...|   null|       null| null|  null| null|null|null|null|\n",
      "|4KjHo2y4YughHrdd4...|   null|       null| null|  null| null|null|null|null|\n",
      "|h_UAfe8YoIpN5OGiH...|   null|       null| null|  null| null|null|null|null|\n",
      "|E0m3ni49ruwkccjZe...|   null|       null| null|  null| null|null|null|null|\n",
      "|4okNZR_Z3whwioH3i...|   null|       null| null|  null| null|null|null|null|\n",
      "|yYhliOOeTZXlV_ZWb...|   null|       null| null|  null| null|null|null|null|\n",
      "|wn1s1lPOuARSuMdo5...|   null|       null| null|  null| null|null|null|null|\n",
      "|XQ4k0UUqo8k3HucUT...|   null|       null| null|  null| null|null|null|null|\n",
      "|psA_ANJ6pEyD9MS_A...|   null|       null| null|  null| null|null|null|null|\n",
      "|PcdwS2FL3jnpXIwmI...|   null|       null| null|  null| null|null|null|null|\n",
      "+--------------------+-------+-----------+-----+------+-----+----+----+----+\n",
      "only showing top 20 rows\n",
      "\n"
     ]
    }
   ],
   "source": [
    "review_dfa.show()"
   ]
  }
 ],
 "metadata": {
  "kernelspec": {
   "display_name": "Python 3",
   "language": "python",
   "name": "python3"
  },
  "language_info": {
   "codemirror_mode": {
    "name": "ipython",
    "version": 3
   },
   "file_extension": ".py",
   "mimetype": "text/x-python",
   "name": "python",
   "nbconvert_exporter": "python",
   "pygments_lexer": "ipython3",
   "version": "3.8.10"
  },
  "orig_nbformat": 4
 },
 "nbformat": 4,
 "nbformat_minor": 2
}
