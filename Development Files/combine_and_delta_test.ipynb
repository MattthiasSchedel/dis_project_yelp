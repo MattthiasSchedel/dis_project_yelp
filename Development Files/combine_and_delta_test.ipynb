{
 "cells": [
  {
   "cell_type": "code",
   "execution_count": 1,
   "metadata": {},
   "outputs": [
    {
     "name": "stdout",
     "output_type": "stream",
     "text": [
      "/bin/bash: /usr/local/spark: Is a directory\n"
     ]
    }
   ],
   "source": [
    "!$SPARK_HOME"
   ]
  },
  {
   "cell_type": "code",
   "execution_count": 1,
   "metadata": {},
   "outputs": [
    {
     "name": "stdout",
     "output_type": "stream",
     "text": [
      ":: loading settings :: url = jar:file:/usr/local/spark/jars/ivy-2.5.0.jar!/org/apache/ivy/core/settings/ivysettings.xml\n"
     ]
    },
    {
     "name": "stderr",
     "output_type": "stream",
     "text": [
      "Ivy Default Cache set to: /home/ubuntu/.ivy2/cache\n",
      "The jars for the packages stored in: /home/ubuntu/.ivy2/jars\n",
      "io.delta#delta-core_2.12 added as a dependency\n",
      ":: resolving dependencies :: org.apache.spark#spark-submit-parent-3dc1d966-5e9e-4930-b36e-9480c5adf311;1.0\n",
      "\tconfs: [default]\n",
      "\tfound io.delta#delta-core_2.12;2.0.0 in central\n",
      "\tfound io.delta#delta-storage;2.0.0 in central\n",
      "\tfound org.antlr#antlr4-runtime;4.8 in central\n",
      "\tfound org.codehaus.jackson#jackson-core-asl;1.9.13 in central\n",
      ":: resolution report :: resolve 272ms :: artifacts dl 16ms\n",
      "\t:: modules in use:\n",
      "\tio.delta#delta-core_2.12;2.0.0 from central in [default]\n",
      "\tio.delta#delta-storage;2.0.0 from central in [default]\n",
      "\torg.antlr#antlr4-runtime;4.8 from central in [default]\n",
      "\torg.codehaus.jackson#jackson-core-asl;1.9.13 from central in [default]\n",
      "\t---------------------------------------------------------------------\n",
      "\t|                  |            modules            ||   artifacts   |\n",
      "\t|       conf       | number| search|dwnlded|evicted|| number|dwnlded|\n",
      "\t---------------------------------------------------------------------\n",
      "\t|      default     |   4   |   0   |   0   |   0   ||   4   |   0   |\n",
      "\t---------------------------------------------------------------------\n",
      ":: retrieving :: org.apache.spark#spark-submit-parent-3dc1d966-5e9e-4930-b36e-9480c5adf311\n",
      "\tconfs: [default]\n",
      "\t0 artifacts copied, 4 already retrieved (0kB/16ms)\n",
      "2023-03-25 18:37:02,707 WARN util.NativeCodeLoader: Unable to load native-hadoop library for your platform... using builtin-java classes where applicable\n",
      "Setting default log level to \"WARN\".\n",
      "To adjust logging level use sc.setLogLevel(newLevel). For SparkR, use setLogLevel(newLevel).\n"
     ]
    }
   ],
   "source": [
    "import findspark\n",
    "findspark.init(\"/usr/local/spark\")\n",
    "\n",
    "from pyspark.sql import SparkSession \n",
    "import pyspark.sql.functions as F \n",
    "\n",
    "from delta import *\n",
    "\n",
    "builder = SparkSession.builder.appName(\"MyApp\") \\\n",
    "    .config(\"spark.sql.extensions\", \"io.delta.sql.DeltaSparkSessionExtension\") \\\n",
    "    .config(\"spark.sql.catalog.spark_catalog\", \"org.apache.spark.sql.delta.catalog.DeltaCatalog\")\\\n",
    "    .master(\"spark://namenode:7077\")\\\n",
    "\n",
    "spark = configure_spark_with_delta_pip(builder).getOrCreate()"
   ]
  },
  {
   "cell_type": "code",
   "execution_count": 2,
   "metadata": {},
   "outputs": [
    {
     "name": "stderr",
     "output_type": "stream",
     "text": [
      "                                                                                \r"
     ]
    }
   ],
   "source": [
    "business=spark.read.parquet('hdfs://namenode:9000/project_data/data/business/')"
   ]
  },
  {
   "cell_type": "markdown",
   "metadata": {},
   "source": [
    "business.write.format(\"delta\").mode(\"overwrite\").save(\"/temp/business\")"
   ]
  },
  {
   "cell_type": "markdown",
   "metadata": {},
   "source": [
    "df = spark.read.format(\"delta\").load(\"/temp/business\")"
   ]
  },
  {
   "cell_type": "markdown",
   "metadata": {},
   "source": [
    "df.show(5)"
   ]
  },
  {
   "cell_type": "code",
   "execution_count": 3,
   "metadata": {},
   "outputs": [],
   "source": [
    "reviews=spark.read.parquet('hdfs://namenode:9000/project_data/data/reviews/')"
   ]
  },
  {
   "cell_type": "code",
   "execution_count": 4,
   "metadata": {},
   "outputs": [
    {
     "name": "stderr",
     "output_type": "stream",
     "text": [
      "                                                                                \r"
     ]
    },
    {
     "data": {
      "text/plain": [
       "[Row(review_id='6fObpwIggOQR1oDapyQzyg', user_id='lN-1uUHeV_QyFbczw8ErlA', business_id='grpNey31cTGKrhmQQaNGdA', stars='5.0', useful=0, funny=0, cool=0, text='Had a wonderful, authentic basque dinner Friday night.  Service was great and friendly and the bar was fun. Thanks Gavin!  We will definitely be back!Chris and Cathy (Turlock CA)', date='2020-06-28 19:45:32')]"
      ]
     },
     "execution_count": 4,
     "metadata": {},
     "output_type": "execute_result"
    }
   ],
   "source": [
    "reviews.take(1)"
   ]
  },
  {
   "cell_type": "code",
   "execution_count": 5,
   "metadata": {},
   "outputs": [],
   "source": [
    "business.createOrReplaceTempView(\"business\")\n",
    "reviews.createOrReplaceTempView(\"reviews\")\n",
    "combined_table = spark.sql(\"SELECT r.review_id, b.business_id, r.text, r.date, b.categories, r.stars FROM reviews AS r LEFT JOIN business AS b ON b.business_id = r.business_id \")\n"
   ]
  },
  {
   "cell_type": "code",
   "execution_count": 6,
   "metadata": {},
   "outputs": [
    {
     "name": "stderr",
     "output_type": "stream",
     "text": [
      "[Stage 4:>                                                          (0 + 1) / 1]\r"
     ]
    },
    {
     "name": "stdout",
     "output_type": "stream",
     "text": [
      "+--------------------+--------------------+--------------------+-------------------+--------------------+-----+\n",
      "|           review_id|         business_id|                text|               date|          categories|stars|\n",
      "+--------------------+--------------------+--------------------+-------------------+--------------------+-----+\n",
      "|6fObpwIggOQR1oDap...|grpNey31cTGKrhmQQ...|Had a wonderful, ...|2020-06-28 19:45:32|Mexican, Spanish,...|  5.0|\n",
      "|UgtrUhfuEgUdPay75...|Fay6yoOC6iitEt3QL...|Yeah it was defin...|2020-06-07 18:13:33|Italian, Pizza, F...|  4.0|\n",
      "|MmLxg9oLQmPpcPNqI...|wQq0QBaYXa1KLNw_J...|One of the last s...|2018-08-17 18:51:47|Restaurants, Arts...|  4.0|\n",
      "|awQEOCuJ9fL12h7iq...|xgJMQq0uVY4KB9Efn...|Great experience ...|2020-06-15 14:31:14|Donuts, Coffee & ...|  5.0|\n",
      "|R-Jgku-ExdyGh5qOk...|ps1Dduk_Oqrr_O2no...|Our family recent...|2020-02-03 14:10:57|Restaurants, Wine...|  5.0|\n",
      "+--------------------+--------------------+--------------------+-------------------+--------------------+-----+\n",
      "only showing top 5 rows\n",
      "\n"
     ]
    },
    {
     "name": "stderr",
     "output_type": "stream",
     "text": [
      "                                                                                \r"
     ]
    }
   ],
   "source": [
    "combined_table.show(5)"
   ]
  },
  {
   "cell_type": "code",
   "execution_count": 7,
   "metadata": {},
   "outputs": [
    {
     "name": "stderr",
     "output_type": "stream",
     "text": [
      "                                                                                \r"
     ]
    },
    {
     "data": {
      "text/plain": [
       "6990280"
      ]
     },
     "execution_count": 7,
     "metadata": {},
     "output_type": "execute_result"
    }
   ],
   "source": [
    "combined_table.count()"
   ]
  },
  {
   "cell_type": "code",
   "execution_count": 8,
   "metadata": {},
   "outputs": [],
   "source": [
    "restaurant_reviews = combined_table.where(F.col('categories').contains(\"Restaurants\"))"
   ]
  },
  {
   "cell_type": "code",
   "execution_count": 9,
   "metadata": {},
   "outputs": [
    {
     "name": "stderr",
     "output_type": "stream",
     "text": [
      "                                                                                \r"
     ]
    },
    {
     "data": {
      "text/plain": [
       "4724468"
      ]
     },
     "execution_count": 9,
     "metadata": {},
     "output_type": "execute_result"
    }
   ],
   "source": [
    "restaurant_reviews.count()"
   ]
  },
  {
   "cell_type": "code",
   "execution_count": 10,
   "metadata": {},
   "outputs": [
    {
     "name": "stdout",
     "output_type": "stream",
     "text": [
      "+--------------------+--------------------+--------------------+-------------------+--------------------+-----+\n",
      "|           review_id|         business_id|                text|               date|          categories|stars|\n",
      "+--------------------+--------------------+--------------------+-------------------+--------------------+-----+\n",
      "|6fObpwIggOQR1oDap...|grpNey31cTGKrhmQQ...|Had a wonderful, ...|2020-06-28 19:45:32|Mexican, Spanish,...|  5.0|\n",
      "|UgtrUhfuEgUdPay75...|Fay6yoOC6iitEt3QL...|Yeah it was defin...|2020-06-07 18:13:33|Italian, Pizza, F...|  4.0|\n",
      "|MmLxg9oLQmPpcPNqI...|wQq0QBaYXa1KLNw_J...|One of the last s...|2018-08-17 18:51:47|Restaurants, Arts...|  4.0|\n",
      "|R-Jgku-ExdyGh5qOk...|ps1Dduk_Oqrr_O2no...|Our family recent...|2020-02-03 14:10:57|Restaurants, Wine...|  5.0|\n",
      "|QUzo-EaJleFtHZSQ0...|tEHgpkQT50Z-M0Xaf...|Walt did it again...|2020-02-27 19:40:08|Steakhouses, Rest...|  5.0|\n",
      "+--------------------+--------------------+--------------------+-------------------+--------------------+-----+\n",
      "only showing top 5 rows\n",
      "\n"
     ]
    }
   ],
   "source": [
    "restaurant_reviews.show(5)"
   ]
  },
  {
   "cell_type": "code",
   "execution_count": 12,
   "metadata": {},
   "outputs": [
    {
     "name": "stderr",
     "output_type": "stream",
     "text": [
      "                                                                                \r"
     ]
    }
   ],
   "source": [
    "restaurant_reviews.write.format(\"delta\").mode(\"overwrite\").option(\"mergeSchema\", \"true\").save(\"/temp/filtered_reviews\")"
   ]
  }
 ],
 "metadata": {
  "kernelspec": {
   "display_name": "Python 3",
   "language": "python",
   "name": "python3"
  },
  "language_info": {
   "codemirror_mode": {
    "name": "ipython",
    "version": 3
   },
   "file_extension": ".py",
   "mimetype": "text/x-python",
   "name": "python",
   "nbconvert_exporter": "python",
   "pygments_lexer": "ipython3",
   "version": "3.8.10"
  },
  "orig_nbformat": 4
 },
 "nbformat": 4,
 "nbformat_minor": 2
}
